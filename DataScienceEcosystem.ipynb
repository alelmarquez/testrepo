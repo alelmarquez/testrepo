{
 "cells": [
  {
   "cell_type": "markdown",
   "id": "3aef8a38-c7c6-4417-8582-ef528f108dce",
   "metadata": {},
   "source": [
    "# Data Science Tools and Ecosystem "
   ]
  },
  {
   "cell_type": "markdown",
   "id": "62cc282d-030a-43e4-a5f0-0e9a5305b2f5",
   "metadata": {},
   "source": [
    "In this notebook, Data Science Tools and Ecosystem are summarized."
   ]
  },
  {
   "cell_type": "markdown",
   "id": "d2ad5464-7fda-4725-8cad-66efc4b83cc6",
   "metadata": {},
   "source": [
    "**Objectives:**\n",
    "- List popular languages used in Data Science\n",
    "- List libraries used in Data Science\n",
    "- Show some examples of arithmetic expresisons in Python "
   ]
  },
  {
   "cell_type": "markdown",
   "id": "d949249c-becf-49c6-99c6-4fc5aff69531",
   "metadata": {},
   "source": [
    "Some of the popular languages that Data Scientists use are:\n",
    "1. Python \n",
    "2. R \n",
    "3. SQL\n",
    "4. Java \n",
    "5. Julia "
   ]
  },
  {
   "cell_type": "markdown",
   "id": "f6edd35f-23b9-48a8-b366-f9b95bba9cdb",
   "metadata": {},
   "source": [
    "Some of the commonly used libraries used by Data Scientists include:\n",
    "1. Pandas\n",
    "2. NumPy\n",
    "3. Matplotlib\n",
    "4. Tensorflow"
   ]
  },
  {
   "cell_type": "markdown",
   "id": "b712b0e3-fc22-4998-8079-a36a81d10a0d",
   "metadata": {},
   "source": [
    "|Data Science tools|\n",
    "|------------------|\n",
    "|RStudio|\n",
    "|Apache Hadoop|\n",
    "|Apache Spark|"
   ]
  },
  {
   "cell_type": "markdown",
   "id": "90c25df9-6a6e-411e-b792-58d6d23e963f",
   "metadata": {},
   "source": [
    "### Below are a few examples of evaluating arithmetic expressions in Python"
   ]
  },
  {
   "cell_type": "code",
   "execution_count": 20,
   "id": "82e60314-8634-4aff-b0d6-22613967660c",
   "metadata": {},
   "outputs": [
    {
     "data": {
      "text/plain": [
       "17"
      ]
     },
     "execution_count": 20,
     "metadata": {},
     "output_type": "execute_result"
    }
   ],
   "source": [
    "# This a simple arithmetic expression to mutiply then add integers\n",
    "(3*4)+5"
   ]
  },
  {
   "cell_type": "code",
   "execution_count": 22,
   "id": "ebab80c9-0dd1-4f37-ad33-59d9ecc7fb2a",
   "metadata": {},
   "outputs": [
    {
     "data": {
      "text/plain": [
       "3.3333333333333335"
      ]
     },
     "execution_count": 22,
     "metadata": {},
     "output_type": "execute_result"
    }
   ],
   "source": [
    "# This will convert 200 minutes to hours by diving by 60\n",
    "200/60"
   ]
  },
  {
   "cell_type": "markdown",
   "id": "a8d26a3d-3c6f-456c-b739-a0480f0ad0b2",
   "metadata": {},
   "source": [
    "## Author \n",
    "Alejandra Lopez "
   ]
  },
  {
   "cell_type": "code",
   "execution_count": null,
   "id": "a2cc81ad-c95c-4e29-b000-6097f2d3f6d3",
   "metadata": {},
   "outputs": [],
   "source": []
  }
 ],
 "metadata": {
  "kernelspec": {
   "display_name": "Python 3 (ipykernel)",
   "language": "python",
   "name": "python3"
  },
  "language_info": {
   "codemirror_mode": {
    "name": "ipython",
    "version": 3
   },
   "file_extension": ".py",
   "mimetype": "text/x-python",
   "name": "python",
   "nbconvert_exporter": "python",
   "pygments_lexer": "ipython3",
   "version": "3.12.4"
  }
 },
 "nbformat": 4,
 "nbformat_minor": 5
}
